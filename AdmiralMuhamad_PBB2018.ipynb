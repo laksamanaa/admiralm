{
  "nbformat": 4,
  "nbformat_minor": 0,
  "metadata": {
    "colab": {
      "name": "AdmiralMuhamad_PBB2018.ipynb",
      "provenance": [],
      "authorship_tag": "ABX9TyNITeECMXRWNQD7pkMM3Jyu",
      "include_colab_link": true
    },
    "kernelspec": {
      "name": "python3",
      "display_name": "Python 3"
    }
  },
  "cells": [
    {
      "cell_type": "markdown",
      "metadata": {
        "id": "view-in-github",
        "colab_type": "text"
      },
      "source": [
        "<a href=\"https://colab.research.google.com/github/laksamanaa/admiralm/blob/master/AdmiralMuhamad_PBB2018.ipynb\" target=\"_parent\"><img src=\"https://colab.research.google.com/assets/colab-badge.svg\" alt=\"Open In Colab\"/></a>"
      ]
    },
    {
      "cell_type": "code",
      "metadata": {
        "id": "LdavKE-iTEC6",
        "colab_type": "code",
        "colab": {}
      },
      "source": [
        "#@title Run on TensorFlow 2.x\n",
        "%tensorflow_version 2.x"
      ],
      "execution_count": 0,
      "outputs": []
    },
    {
      "cell_type": "code",
      "metadata": {
        "id": "0AW6w4I7TOLh",
        "colab_type": "code",
        "colab": {},
        "cellView": "both"
      },
      "source": [
        "# untuk mengimpor modul yang dibutuhkan\n",
        "import pandas as pd\n",
        "import tensorflow as tf\n",
        "from matplotlib import pyplot as plt\n",
        "\n",
        "\n",
        "pd.options.display.max_rows = 10\n",
        "pd.options.display.float_format = \"{:.1f}\".format"
      ],
      "execution_count": 0,
      "outputs": []
    },
    {
      "cell_type": "code",
      "metadata": {
        "id": "pURNycB0TbP4",
        "colab_type": "code",
        "colab": {
          "base_uri": "https://localhost:8080/",
          "height": 204
        },
        "outputId": "a30bf332-2a88-4627-d426-78cbb84ffd82"
      },
      "source": [
        "# untuk impor file nya\n",
        "training_df = pd.read_csv(filepath_or_buffer=\"https://download.mlcc.google.com/mledu-datasets/california_housing_train.csv\")\n",
        "\n",
        "# untuk skala nilai dari kolom median_house_value \n",
        "# agar tidak terlalu besar nilainya\n",
        "training_df[\"median_house_value\"] /= 1000.0\n",
        "\n",
        "# untuk print data dari flie .csv lima baris pertama\n",
        "training_df.head()"
      ],
      "execution_count": 14,
      "outputs": [
        {
          "output_type": "execute_result",
          "data": {
            "text/html": [
              "<div>\n",
              "<style scoped>\n",
              "    .dataframe tbody tr th:only-of-type {\n",
              "        vertical-align: middle;\n",
              "    }\n",
              "\n",
              "    .dataframe tbody tr th {\n",
              "        vertical-align: top;\n",
              "    }\n",
              "\n",
              "    .dataframe thead th {\n",
              "        text-align: right;\n",
              "    }\n",
              "</style>\n",
              "<table border=\"1\" class=\"dataframe\">\n",
              "  <thead>\n",
              "    <tr style=\"text-align: right;\">\n",
              "      <th></th>\n",
              "      <th>longitude</th>\n",
              "      <th>latitude</th>\n",
              "      <th>housing_median_age</th>\n",
              "      <th>total_rooms</th>\n",
              "      <th>total_bedrooms</th>\n",
              "      <th>population</th>\n",
              "      <th>households</th>\n",
              "      <th>median_income</th>\n",
              "      <th>median_house_value</th>\n",
              "    </tr>\n",
              "  </thead>\n",
              "  <tbody>\n",
              "    <tr>\n",
              "      <th>0</th>\n",
              "      <td>-114.3</td>\n",
              "      <td>34.2</td>\n",
              "      <td>15.0</td>\n",
              "      <td>5612.0</td>\n",
              "      <td>1283.0</td>\n",
              "      <td>1015.0</td>\n",
              "      <td>472.0</td>\n",
              "      <td>1.5</td>\n",
              "      <td>66.9</td>\n",
              "    </tr>\n",
              "    <tr>\n",
              "      <th>1</th>\n",
              "      <td>-114.5</td>\n",
              "      <td>34.4</td>\n",
              "      <td>19.0</td>\n",
              "      <td>7650.0</td>\n",
              "      <td>1901.0</td>\n",
              "      <td>1129.0</td>\n",
              "      <td>463.0</td>\n",
              "      <td>1.8</td>\n",
              "      <td>80.1</td>\n",
              "    </tr>\n",
              "    <tr>\n",
              "      <th>2</th>\n",
              "      <td>-114.6</td>\n",
              "      <td>33.7</td>\n",
              "      <td>17.0</td>\n",
              "      <td>720.0</td>\n",
              "      <td>174.0</td>\n",
              "      <td>333.0</td>\n",
              "      <td>117.0</td>\n",
              "      <td>1.7</td>\n",
              "      <td>85.7</td>\n",
              "    </tr>\n",
              "    <tr>\n",
              "      <th>3</th>\n",
              "      <td>-114.6</td>\n",
              "      <td>33.6</td>\n",
              "      <td>14.0</td>\n",
              "      <td>1501.0</td>\n",
              "      <td>337.0</td>\n",
              "      <td>515.0</td>\n",
              "      <td>226.0</td>\n",
              "      <td>3.2</td>\n",
              "      <td>73.4</td>\n",
              "    </tr>\n",
              "    <tr>\n",
              "      <th>4</th>\n",
              "      <td>-114.6</td>\n",
              "      <td>33.6</td>\n",
              "      <td>20.0</td>\n",
              "      <td>1454.0</td>\n",
              "      <td>326.0</td>\n",
              "      <td>624.0</td>\n",
              "      <td>262.0</td>\n",
              "      <td>1.9</td>\n",
              "      <td>65.5</td>\n",
              "    </tr>\n",
              "  </tbody>\n",
              "</table>\n",
              "</div>"
            ],
            "text/plain": [
              "   longitude  latitude  ...  median_income  median_house_value\n",
              "0     -114.3      34.2  ...            1.5                66.9\n",
              "1     -114.5      34.4  ...            1.8                80.1\n",
              "2     -114.6      33.7  ...            1.7                85.7\n",
              "3     -114.6      33.6  ...            3.2                73.4\n",
              "4     -114.6      33.6  ...            1.9                65.5\n",
              "\n",
              "[5 rows x 9 columns]"
            ]
          },
          "metadata": {
            "tags": []
          },
          "execution_count": 14
        }
      ]
    },
    {
      "cell_type": "code",
      "metadata": {
        "id": "v_xkVZvHWATy",
        "colab_type": "code",
        "colab": {
          "base_uri": "https://localhost:8080/",
          "height": 297
        },
        "outputId": "ca2fa538-9277-452f-893e-e50a61675f08"
      },
      "source": [
        "# untuk mencari statistik dari dataset\n",
        "training_df.describe()"
      ],
      "execution_count": 5,
      "outputs": [
        {
          "output_type": "execute_result",
          "data": {
            "text/html": [
              "<div>\n",
              "<style scoped>\n",
              "    .dataframe tbody tr th:only-of-type {\n",
              "        vertical-align: middle;\n",
              "    }\n",
              "\n",
              "    .dataframe tbody tr th {\n",
              "        vertical-align: top;\n",
              "    }\n",
              "\n",
              "    .dataframe thead th {\n",
              "        text-align: right;\n",
              "    }\n",
              "</style>\n",
              "<table border=\"1\" class=\"dataframe\">\n",
              "  <thead>\n",
              "    <tr style=\"text-align: right;\">\n",
              "      <th></th>\n",
              "      <th>longitude</th>\n",
              "      <th>latitude</th>\n",
              "      <th>housing_median_age</th>\n",
              "      <th>total_rooms</th>\n",
              "      <th>total_bedrooms</th>\n",
              "      <th>population</th>\n",
              "      <th>households</th>\n",
              "      <th>median_income</th>\n",
              "      <th>median_house_value</th>\n",
              "    </tr>\n",
              "  </thead>\n",
              "  <tbody>\n",
              "    <tr>\n",
              "      <th>count</th>\n",
              "      <td>17000.0</td>\n",
              "      <td>17000.0</td>\n",
              "      <td>17000.0</td>\n",
              "      <td>17000.0</td>\n",
              "      <td>17000.0</td>\n",
              "      <td>17000.0</td>\n",
              "      <td>17000.0</td>\n",
              "      <td>17000.0</td>\n",
              "      <td>17000.0</td>\n",
              "    </tr>\n",
              "    <tr>\n",
              "      <th>mean</th>\n",
              "      <td>-119.6</td>\n",
              "      <td>35.6</td>\n",
              "      <td>28.6</td>\n",
              "      <td>2643.7</td>\n",
              "      <td>539.4</td>\n",
              "      <td>1429.6</td>\n",
              "      <td>501.2</td>\n",
              "      <td>3.9</td>\n",
              "      <td>207.3</td>\n",
              "    </tr>\n",
              "    <tr>\n",
              "      <th>std</th>\n",
              "      <td>2.0</td>\n",
              "      <td>2.1</td>\n",
              "      <td>12.6</td>\n",
              "      <td>2179.9</td>\n",
              "      <td>421.5</td>\n",
              "      <td>1147.9</td>\n",
              "      <td>384.5</td>\n",
              "      <td>1.9</td>\n",
              "      <td>116.0</td>\n",
              "    </tr>\n",
              "    <tr>\n",
              "      <th>min</th>\n",
              "      <td>-124.3</td>\n",
              "      <td>32.5</td>\n",
              "      <td>1.0</td>\n",
              "      <td>2.0</td>\n",
              "      <td>1.0</td>\n",
              "      <td>3.0</td>\n",
              "      <td>1.0</td>\n",
              "      <td>0.5</td>\n",
              "      <td>15.0</td>\n",
              "    </tr>\n",
              "    <tr>\n",
              "      <th>25%</th>\n",
              "      <td>-121.8</td>\n",
              "      <td>33.9</td>\n",
              "      <td>18.0</td>\n",
              "      <td>1462.0</td>\n",
              "      <td>297.0</td>\n",
              "      <td>790.0</td>\n",
              "      <td>282.0</td>\n",
              "      <td>2.6</td>\n",
              "      <td>119.4</td>\n",
              "    </tr>\n",
              "    <tr>\n",
              "      <th>50%</th>\n",
              "      <td>-118.5</td>\n",
              "      <td>34.2</td>\n",
              "      <td>29.0</td>\n",
              "      <td>2127.0</td>\n",
              "      <td>434.0</td>\n",
              "      <td>1167.0</td>\n",
              "      <td>409.0</td>\n",
              "      <td>3.5</td>\n",
              "      <td>180.4</td>\n",
              "    </tr>\n",
              "    <tr>\n",
              "      <th>75%</th>\n",
              "      <td>-118.0</td>\n",
              "      <td>37.7</td>\n",
              "      <td>37.0</td>\n",
              "      <td>3151.2</td>\n",
              "      <td>648.2</td>\n",
              "      <td>1721.0</td>\n",
              "      <td>605.2</td>\n",
              "      <td>4.8</td>\n",
              "      <td>265.0</td>\n",
              "    </tr>\n",
              "    <tr>\n",
              "      <th>max</th>\n",
              "      <td>-114.3</td>\n",
              "      <td>42.0</td>\n",
              "      <td>52.0</td>\n",
              "      <td>37937.0</td>\n",
              "      <td>6445.0</td>\n",
              "      <td>35682.0</td>\n",
              "      <td>6082.0</td>\n",
              "      <td>15.0</td>\n",
              "      <td>500.0</td>\n",
              "    </tr>\n",
              "  </tbody>\n",
              "</table>\n",
              "</div>"
            ],
            "text/plain": [
              "       longitude  latitude  ...  median_income  median_house_value\n",
              "count    17000.0   17000.0  ...        17000.0             17000.0\n",
              "mean      -119.6      35.6  ...            3.9               207.3\n",
              "std          2.0       2.1  ...            1.9               116.0\n",
              "min       -124.3      32.5  ...            0.5                15.0\n",
              "25%       -121.8      33.9  ...            2.6               119.4\n",
              "50%       -118.5      34.2  ...            3.5               180.4\n",
              "75%       -118.0      37.7  ...            4.8               265.0\n",
              "max       -114.3      42.0  ...           15.0               500.0\n",
              "\n",
              "[8 rows x 9 columns]"
            ]
          },
          "metadata": {
            "tags": []
          },
          "execution_count": 5
        }
      ]
    },
    {
      "cell_type": "code",
      "metadata": {
        "id": "pedD5GhlDC-y",
        "colab_type": "code",
        "cellView": "both",
        "colab": {
          "base_uri": "https://localhost:8080/",
          "height": 34
        },
        "outputId": "66e4a40b-e7c9-4ea1-c6ce-a9b6dbbf2838"
      },
      "source": [
        "# Kode buat bkin model tf sama train model tf\n",
        "def build_model(my_learning_rate):\n",
        "\n",
        "  model = tf.keras.models.Sequential()\n",
        "\n",
        "  model.add(tf.keras.layers.Dense(units=1, \n",
        "                                  input_shape=(1,)))\n",
        "\n",
        "  model.compile(optimizer=tf.keras.optimizers.RMSprop(lr=my_learning_rate),\n",
        "                loss=\"mean_squared_error\",\n",
        "                metrics=[tf.keras.metrics.RootMeanSquaredError()])\n",
        "\n",
        "  return model        \n",
        "\n",
        "\n",
        "def train_model(model, df, feature, label, epochs, batch_size):\n",
        "\n",
        "  history = model.fit(x=df[feature],\n",
        "                      y=df[label],\n",
        "                      batch_size=batch_size,\n",
        "                      epochs=epochs)\n",
        "\n",
        "  trained_weight = model.get_weights()[0]\n",
        "  trained_bias = model.get_weights()[1]\n",
        "\n",
        "  epochs = history.epoch\n",
        "\n",
        "  hist = pd.DataFrame(history.history)\n",
        "\n",
        "\n",
        "  rmse = hist[\"root_mean_squared_error\"]\n",
        "\n",
        "  return trained_weight, trained_bias, epochs, rmse\n",
        "\n",
        "print(\"Defined the create_model and traing_model functions.\")"
      ],
      "execution_count": 7,
      "outputs": [
        {
          "output_type": "stream",
          "text": [
            "Defined the create_model and traing_model functions.\n"
          ],
          "name": "stdout"
        }
      ]
    },
    {
      "cell_type": "code",
      "metadata": {
        "id": "DIXMK3Wbbtwk",
        "colab_type": "code",
        "colab": {
          "base_uri": "https://localhost:8080/",
          "height": 34
        },
        "outputId": "9f9bac9e-dec0-4f25-8c32-67297e0a759f"
      },
      "source": [
        "#@title Define the plotting functions\n",
        "def plot_the_model(trained_weight, trained_bias, feature, label):\n",
        "\n",
        "  # label tiap sumbu x=feature, y=label\n",
        "  plt.xlabel(feature)\n",
        "  plt.ylabel(label)\n",
        "\n",
        "  # Membuat plot acak dari 200 data random\n",
        "  random_examples = training_df.sample(n=200)\n",
        "  plt.scatter(random_examples[feature], random_examples[label])\n",
        "\n",
        "\n",
        "  x0 = 0\n",
        "  y0 = trained_bias\n",
        "  x1 = 10000\n",
        "  y1 = trained_bias + (trained_weight * x1)\n",
        "  plt.plot([x0, x1], [y0, y1], c='r')\n",
        "\n",
        "  plt.show()\n",
        "\n",
        "\n",
        "def plot_the_loss_curve(epochs, rmse):\n",
        "\n",
        "  plt.figure()\n",
        "  plt.xlabel(\"Epoch\")\n",
        "  plt.ylabel(\"Root Mean Squared Error\")\n",
        "\n",
        "  plt.plot(epochs, rmse, label=\"Loss\")\n",
        "  plt.legend()\n",
        "  plt.ylim([rmse.min()*0.97, rmse.max()])\n",
        "  plt.show()  \n",
        "\n",
        "print(\"Defined the plot_the_model and plot_the_loss_curve functions.\")"
      ],
      "execution_count": 26,
      "outputs": [
        {
          "output_type": "stream",
          "text": [
            "Defined the plot_the_model and plot_the_loss_curve functions.\n"
          ],
          "name": "stdout"
        }
      ]
    },
    {
      "cell_type": "code",
      "metadata": {
        "id": "UQBAVm6xcCRM",
        "colab_type": "code",
        "colab": {
          "base_uri": "https://localhost:8080/",
          "height": 1000
        },
        "outputId": "d31fbe83-16af-40c3-816c-3659a03564d2"
      },
      "source": [
        "learning_rate = 0.01\n",
        "epochs = 30\n",
        "batch_size = 30\n",
        "\n",
        "my_feature = \"total_rooms\"\n",
        "my_label=\"median_house_value\"\n",
        "\n",
        "\n",
        "my_model = None\n",
        "\n",
        "my_model = build_model(learning_rate)\n",
        "weight, bias, epochs, rmse = train_model(my_model, training_df, \n",
        "                                         my_feature, my_label,\n",
        "                                         epochs, batch_size)\n",
        "\n",
        "print(\"\\nThe learned weight for your model is %.4f\" % weight)\n",
        "print(\"The learned bias for your model is %.4f\\n\" % bias )\n",
        "\n",
        "plot_the_model(weight, bias, my_feature, my_label)\n",
        "plot_the_loss_curve(epochs, rmse)"
      ],
      "execution_count": 27,
      "outputs": [
        {
          "output_type": "stream",
          "text": [
            "Epoch 1/30\n",
            "567/567 [==============================] - 1s 934us/step - loss: 3411012.0000 - root_mean_squared_error: 1846.8926\n",
            "Epoch 2/30\n",
            "567/567 [==============================] - 1s 1ms/step - loss: 28183.4434 - root_mean_squared_error: 167.8793\n",
            "Epoch 3/30\n",
            "567/567 [==============================] - 1s 959us/step - loss: 27351.7734 - root_mean_squared_error: 165.3837\n",
            "Epoch 4/30\n",
            "567/567 [==============================] - 1s 915us/step - loss: 26749.4551 - root_mean_squared_error: 163.5526\n",
            "Epoch 5/30\n",
            "567/567 [==============================] - 1s 942us/step - loss: 25964.6289 - root_mean_squared_error: 161.1354\n",
            "Epoch 6/30\n",
            "567/567 [==============================] - 1s 951us/step - loss: 25473.3926 - root_mean_squared_error: 159.6039\n",
            "Epoch 7/30\n",
            "567/567 [==============================] - 1s 936us/step - loss: 24754.1680 - root_mean_squared_error: 157.3346\n",
            "Epoch 8/30\n",
            "567/567 [==============================] - 1s 953us/step - loss: 24104.0117 - root_mean_squared_error: 155.2547\n",
            "Epoch 9/30\n",
            "567/567 [==============================] - 1s 938us/step - loss: 23443.7188 - root_mean_squared_error: 153.1134\n",
            "Epoch 10/30\n",
            "567/567 [==============================] - 1s 970us/step - loss: 22932.2402 - root_mean_squared_error: 151.4339\n",
            "Epoch 11/30\n",
            "567/567 [==============================] - 1s 950us/step - loss: 22368.8535 - root_mean_squared_error: 149.5622\n",
            "Epoch 12/30\n",
            "567/567 [==============================] - 1s 917us/step - loss: 21708.1230 - root_mean_squared_error: 147.3368\n",
            "Epoch 13/30\n",
            "567/567 [==============================] - 1s 942us/step - loss: 21145.1543 - root_mean_squared_error: 145.4137\n",
            "Epoch 14/30\n",
            "567/567 [==============================] - 1s 955us/step - loss: 20597.1465 - root_mean_squared_error: 143.5171\n",
            "Epoch 15/30\n",
            "567/567 [==============================] - 1s 928us/step - loss: 20250.7070 - root_mean_squared_error: 142.3050\n",
            "Epoch 16/30\n",
            "567/567 [==============================] - 1s 926us/step - loss: 19554.9824 - root_mean_squared_error: 139.8391\n",
            "Epoch 17/30\n",
            "567/567 [==============================] - 1s 946us/step - loss: 19335.4844 - root_mean_squared_error: 139.0521\n",
            "Epoch 18/30\n",
            "567/567 [==============================] - 1s 974us/step - loss: 18799.5898 - root_mean_squared_error: 137.1116\n",
            "Epoch 19/30\n",
            "567/567 [==============================] - 1s 920us/step - loss: 18511.7969 - root_mean_squared_error: 136.0581\n",
            "Epoch 20/30\n",
            "567/567 [==============================] - 1s 958us/step - loss: 18216.9258 - root_mean_squared_error: 134.9701\n",
            "Epoch 21/30\n",
            "567/567 [==============================] - 1s 939us/step - loss: 17824.1582 - root_mean_squared_error: 133.5071\n",
            "Epoch 22/30\n",
            "567/567 [==============================] - 1s 931us/step - loss: 17356.6406 - root_mean_squared_error: 131.7446\n",
            "Epoch 23/30\n",
            "567/567 [==============================] - 1s 970us/step - loss: 17067.8691 - root_mean_squared_error: 130.6441\n",
            "Epoch 24/30\n",
            "567/567 [==============================] - 1s 917us/step - loss: 16824.5664 - root_mean_squared_error: 129.7095\n",
            "Epoch 25/30\n",
            "567/567 [==============================] - 1s 933us/step - loss: 16549.2227 - root_mean_squared_error: 128.6438\n",
            "Epoch 26/30\n",
            "567/567 [==============================] - 1s 926us/step - loss: 16242.7051 - root_mean_squared_error: 127.4469\n",
            "Epoch 27/30\n",
            "567/567 [==============================] - 1s 934us/step - loss: 16106.9912 - root_mean_squared_error: 126.9133\n",
            "Epoch 28/30\n",
            "567/567 [==============================] - 1s 928us/step - loss: 15722.6875 - root_mean_squared_error: 125.3901\n",
            "Epoch 29/30\n",
            "567/567 [==============================] - 1s 968us/step - loss: 15555.4629 - root_mean_squared_error: 124.7215\n",
            "Epoch 30/30\n",
            "567/567 [==============================] - 1s 911us/step - loss: 15444.5928 - root_mean_squared_error: 124.2763\n",
            "\n",
            "The learned weight for your model is 0.0215\n",
            "The learned bias for your model is 129.8869\n",
            "\n"
          ],
          "name": "stdout"
        },
        {
          "output_type": "display_data",
          "data": {
            "image/png": "[encoded data removed]",
            "text/plain": [
              "<Figure size 432x288 with 1 Axes>"
            ]
          },
          "metadata": {
            "tags": [],
            "needs_background": "light"
          }
        },
        {
          "output_type": "display_data",
          "data": {
            "image/png": "[encoded data removed]",
            "text/plain": [
              "<Figure size 432x288 with 1 Axes>"
            ]
          },
          "metadata": {
            "tags": [],
            "needs_background": "light"
          }
        }
      ]
    },
    {
      "cell_type": "code",
      "metadata": {
        "id": "5ESWceEHdz17",
        "colab_type": "code",
        "colab": {}
      },
      "source": [
        "def predict_house_values(n, feature, label):\n",
        "  \"\"\"Predict house values based on a feature.\"\"\"\n",
        "\n",
        "  batch = training_df[feature][10000:10000 + n]\n",
        "  predicted_values = my_model.predict_on_batch(x=batch)\n",
        "\n",
        "  print(\"feature   label          predicted\")\n",
        "  print(\"  value   value          value\")\n",
        "  print(\"          in thousand$   in thousand$\")\n",
        "  print(\"--------------------------------------\")\n",
        "  for i in range(n):\n",
        "    print (\"%5.0f %6.0f %15.0f\" % (training_df[feature][10000 + i],\n",
        "                                   training_df[label][10000 + i],\n",
        "                                   predicted_values[i][0] ))"
      ],
      "execution_count": 0,
      "outputs": []
    },
    {
      "cell_type": "code",
      "metadata": {
        "id": "Y_0DGBt0Kz_N",
        "colab_type": "code",
        "colab": {
          "base_uri": "https://localhost:8080/",
          "height": 255
        },
        "outputId": "28536720-99a2-4747-c960-f2a2695c49c8"
      },
      "source": [
        "predict_house_values(10, my_feature, my_label)"
      ],
      "execution_count": 29,
      "outputs": [
        {
          "output_type": "stream",
          "text": [
            "feature   label          predicted\n",
            "  value   value          value\n",
            "          in thousand$   in thousand$\n",
            "--------------------------------------\n",
            " 1960     53             172\n",
            " 3400     92             203\n",
            " 3677     69             209\n",
            " 2202     62             177\n",
            " 2403     80             181\n",
            " 5652    295             251\n",
            " 3318    500             201\n",
            " 2552    342             185\n",
            " 1364    118             159\n",
            " 3468    128             204\n"
          ],
          "name": "stdout"
        }
      ]
    },
    {
      "cell_type": "code",
      "metadata": {
        "id": "Hs-k4KWoeK2D",
        "colab_type": "code",
        "colab": {
          "base_uri": "https://localhost:8080/",
          "height": 1000
        },
        "outputId": "60538d80-eb7e-47d1-97ca-8c723b40cc8e"
      },
      "source": [
        "my_feature = \"population\"\n",
        "\n",
        "# saya ganti hyperparameter nya\n",
        "# learning_rate untuk meminimalkan loss\n",
        "# epoch untuk berapa kali model mengulangi perhitungan dataset\n",
        "# batch_size menentukan jumlah teaining example dalam satu batch\n",
        "learning_rate = 0.1\n",
        "epochs = 15\n",
        "batch_size = 50\n",
        "\n",
        "my_model = build_model(learning_rate)\n",
        "weight, bias, epochs, rmse = train_model(my_model, training_df, \n",
        "                                         my_feature, my_label,\n",
        "                                         epochs, batch_size)\n",
        "plot_the_model(weight, bias, my_feature, my_label)\n",
        "plot_the_loss_curve(epochs, rmse)\n",
        "\n",
        "predict_house_values(15, my_feature, my_label)"
      ],
      "execution_count": 34,
      "outputs": [
        {
          "output_type": "stream",
          "text": [
            "Epoch 1/15\n",
            "340/340 [==============================] - 0s 921us/step - loss: 40352.0078 - root_mean_squared_error: 200.8781\n",
            "Epoch 2/15\n",
            "340/340 [==============================] - 0s 930us/step - loss: 35956.5508 - root_mean_squared_error: 189.6221\n",
            "Epoch 3/15\n",
            "340/340 [==============================] - 0s 936us/step - loss: 31965.2109 - root_mean_squared_error: 178.7882\n",
            "Epoch 4/15\n",
            "340/340 [==============================] - 0s 938us/step - loss: 30151.3672 - root_mean_squared_error: 173.6415\n",
            "Epoch 5/15\n",
            "340/340 [==============================] - 0s 947us/step - loss: 27617.4629 - root_mean_squared_error: 166.1850\n",
            "Epoch 6/15\n",
            "340/340 [==============================] - 0s 980us/step - loss: 26829.6406 - root_mean_squared_error: 163.7976\n",
            "Epoch 7/15\n",
            "340/340 [==============================] - 0s 1ms/step - loss: 25576.2734 - root_mean_squared_error: 159.9258\n",
            "Epoch 8/15\n",
            "340/340 [==============================] - 0s 1ms/step - loss: 24640.4121 - root_mean_squared_error: 156.9726\n",
            "Epoch 9/15\n",
            "340/340 [==============================] - 0s 945us/step - loss: 24222.0273 - root_mean_squared_error: 155.6343\n",
            "Epoch 10/15\n",
            "340/340 [==============================] - 0s 928us/step - loss: 22820.1660 - root_mean_squared_error: 151.0634\n",
            "Epoch 11/15\n",
            "340/340 [==============================] - 0s 980us/step - loss: 22501.8984 - root_mean_squared_error: 150.0063\n",
            "Epoch 12/15\n",
            "340/340 [==============================] - 0s 1ms/step - loss: 22837.2734 - root_mean_squared_error: 151.1201\n",
            "Epoch 13/15\n",
            "340/340 [==============================] - 0s 939us/step - loss: 22144.6758 - root_mean_squared_error: 148.8109\n",
            "Epoch 14/15\n",
            "340/340 [==============================] - 0s 924us/step - loss: 22006.1680 - root_mean_squared_error: 148.3448\n",
            "Epoch 15/15\n",
            "340/340 [==============================] - 0s 947us/step - loss: 22211.4766 - root_mean_squared_error: 149.0352\n"
          ],
          "name": "stdout"
        },
        {
          "output_type": "display_data",
          "data": {
            "image/png": "[encoded data removed]",
            "text/plain": [
              "<Figure size 432x288 with 1 Axes>"
            ]
          },
          "metadata": {
            "tags": [],
            "needs_background": "light"
          }
        },
        {
          "output_type": "display_data",
          "data": {
            "image/png": "[encoded data removed]",
            "text/plain": [
              "<Figure size 432x288 with 1 Axes>"
            ]
          },
          "metadata": {
            "tags": [],
            "needs_background": "light"
          }
        },
        {
          "output_type": "stream",
          "text": [
            "feature   label          predicted\n",
            "  value   value          value\n",
            "          in thousand$   in thousand$\n",
            "--------------------------------------\n",
            " 1286     53             277\n",
            " 1867     92             315\n",
            " 2191     69             337\n",
            " 1052     62             261\n",
            " 1647     80             301\n",
            " 2312    295             345\n",
            " 1604    500             298\n",
            " 1066    342             262\n",
            "  338    118             214\n",
            " 1604    128             298\n",
            " 1200    187             271\n",
            "  292     80             211\n",
            " 2014    112             325\n",
            " 1817     95             312\n",
            " 1328     69             280\n"
          ],
          "name": "stdout"
        }
      ]
    },
    {
      "cell_type": "code",
      "metadata": {
        "id": "vzUVHUwVlhVX",
        "colab_type": "code",
        "colab": {
          "base_uri": "https://localhost:8080/",
          "height": 1000
        },
        "outputId": "9aa05e20-5fc8-4104-934f-4f6f642005e8"
      },
      "source": [
        "training_df[\"rooms_per_person\"] = training_df[\"total_rooms\"] / training_df[\"population\"]\n",
        "\n",
        "my_feature = \"rooms_per_person\"\n",
        "\n",
        "learning_rate = 1\n",
        "epochs = 25\n",
        "batch_size = 40\n",
        "\n",
        "my_model = build_model(learning_rate)\n",
        "weight, bias, epochs, rmse = train_model(my_model, training_df,\n",
        "                                         my_feature, my_label,\n",
        "                                         epochs, batch_size)\n",
        "\n",
        "plot_the_loss_curve(epochs, rmse)\n",
        "predict_house_values(15, my_feature, my_label)"
      ],
      "execution_count": 36,
      "outputs": [
        {
          "output_type": "stream",
          "text": [
            "Epoch 1/25\n",
            "425/425 [==============================] - 0s 1ms/step - loss: 16022.1631 - root_mean_squared_error: 126.5787\n",
            "Epoch 2/25\n",
            "425/425 [==============================] - 0s 940us/step - loss: 13338.9248 - root_mean_squared_error: 115.4943\n",
            "Epoch 3/25\n",
            "425/425 [==============================] - 0s 917us/step - loss: 13082.6260 - root_mean_squared_error: 114.3793\n",
            "Epoch 4/25\n",
            "425/425 [==============================] - 0s 918us/step - loss: 13051.6982 - root_mean_squared_error: 114.2440\n",
            "Epoch 5/25\n",
            "425/425 [==============================] - 0s 941us/step - loss: 13169.9619 - root_mean_squared_error: 114.7605\n",
            "Epoch 6/25\n",
            "425/425 [==============================] - 0s 908us/step - loss: 13068.7920 - root_mean_squared_error: 114.3188\n",
            "Epoch 7/25\n",
            "425/425 [==============================] - 0s 1ms/step - loss: 13057.7793 - root_mean_squared_error: 114.2706\n",
            "Epoch 8/25\n",
            "425/425 [==============================] - 1s 1ms/step - loss: 13038.4014 - root_mean_squared_error: 114.1858\n",
            "Epoch 9/25\n",
            "425/425 [==============================] - 1s 1ms/step - loss: 13059.8213 - root_mean_squared_error: 114.2796\n",
            "Epoch 10/25\n",
            "425/425 [==============================] - 0s 1ms/step - loss: 13105.3086 - root_mean_squared_error: 114.4784\n",
            "Epoch 11/25\n",
            "425/425 [==============================] - 0s 933us/step - loss: 13199.5039 - root_mean_squared_error: 114.8891\n",
            "Epoch 12/25\n",
            "425/425 [==============================] - 0s 908us/step - loss: 13198.9072 - root_mean_squared_error: 114.8865\n",
            "Epoch 13/25\n",
            "425/425 [==============================] - 0s 983us/step - loss: 13176.1787 - root_mean_squared_error: 114.7875\n",
            "Epoch 14/25\n",
            "425/425 [==============================] - 0s 924us/step - loss: 13068.2236 - root_mean_squared_error: 114.3163\n",
            "Epoch 15/25\n",
            "425/425 [==============================] - 0s 895us/step - loss: 13158.4805 - root_mean_squared_error: 114.7104\n",
            "Epoch 16/25\n",
            "425/425 [==============================] - 0s 915us/step - loss: 13062.3145 - root_mean_squared_error: 114.2905\n",
            "Epoch 17/25\n",
            "425/425 [==============================] - 0s 927us/step - loss: 13114.1562 - root_mean_squared_error: 114.5171\n",
            "Epoch 18/25\n",
            "425/425 [==============================] - 0s 900us/step - loss: 13078.4307 - root_mean_squared_error: 114.3610\n",
            "Epoch 19/25\n",
            "425/425 [==============================] - 0s 972us/step - loss: 13119.1250 - root_mean_squared_error: 114.5387\n",
            "Epoch 20/25\n",
            "425/425 [==============================] - 0s 927us/step - loss: 13098.9131 - root_mean_squared_error: 114.4505\n",
            "Epoch 21/25\n",
            "425/425 [==============================] - 0s 896us/step - loss: 13141.6172 - root_mean_squared_error: 114.6369\n",
            "Epoch 22/25\n",
            "425/425 [==============================] - 0s 1ms/step - loss: 13079.0488 - root_mean_squared_error: 114.3637\n",
            "Epoch 23/25\n",
            "425/425 [==============================] - 0s 980us/step - loss: 13294.3057 - root_mean_squared_error: 115.3009\n",
            "Epoch 24/25\n",
            "425/425 [==============================] - 0s 1ms/step - loss: 13160.1338 - root_mean_squared_error: 114.7176\n",
            "Epoch 25/25\n",
            "425/425 [==============================] - 0s 1ms/step - loss: 13125.7422 - root_mean_squared_error: 114.5676\n"
          ],
          "name": "stdout"
        },
        {
          "output_type": "display_data",
          "data": {
            "image/png": "[encoded data removed]",
            "text/plain": [
              "<Figure size 432x288 with 1 Axes>"
            ]
          },
          "metadata": {
            "tags": [],
            "needs_background": "light"
          }
        },
        {
          "output_type": "stream",
          "text": [
            "feature   label          predicted\n",
            "  value   value          value\n",
            "          in thousand$   in thousand$\n",
            "--------------------------------------\n",
            "    2     53             198\n",
            "    2     92             208\n",
            "    2     69             203\n",
            "    2     62             217\n",
            "    1     80             196\n",
            "    2    295             228\n",
            "    2    500             216\n",
            "    2    342             226\n",
            "    4    118             279\n",
            "    2    128             219\n",
            "    2    187             227\n",
            "    3     80             235\n",
            "    2    112             228\n",
            "    2     95             223\n",
            "    2     69             216\n"
          ],
          "name": "stdout"
        }
      ]
    },
    {
      "cell_type": "code",
      "metadata": {
        "id": "sarxQ43bmEuB",
        "colab_type": "code",
        "colab": {
          "base_uri": "https://localhost:8080/",
          "height": 379
        },
        "outputId": "cbfd0ff7-9f38-403d-cb16-72681b91546b"
      },
      "source": [
        "training_df.corr()"
      ],
      "execution_count": 37,
      "outputs": [
        {
          "output_type": "execute_result",
          "data": {
            "text/html": [
              "<div>\n",
              "<style scoped>\n",
              "    .dataframe tbody tr th:only-of-type {\n",
              "        vertical-align: middle;\n",
              "    }\n",
              "\n",
              "    .dataframe tbody tr th {\n",
              "        vertical-align: top;\n",
              "    }\n",
              "\n",
              "    .dataframe thead th {\n",
              "        text-align: right;\n",
              "    }\n",
              "</style>\n",
              "<table border=\"1\" class=\"dataframe\">\n",
              "  <thead>\n",
              "    <tr style=\"text-align: right;\">\n",
              "      <th></th>\n",
              "      <th>longitude</th>\n",
              "      <th>latitude</th>\n",
              "      <th>housing_median_age</th>\n",
              "      <th>total_rooms</th>\n",
              "      <th>total_bedrooms</th>\n",
              "      <th>population</th>\n",
              "      <th>households</th>\n",
              "      <th>median_income</th>\n",
              "      <th>median_house_value</th>\n",
              "      <th>rooms_per_person</th>\n",
              "    </tr>\n",
              "  </thead>\n",
              "  <tbody>\n",
              "    <tr>\n",
              "      <th>longitude</th>\n",
              "      <td>1.0</td>\n",
              "      <td>-0.9</td>\n",
              "      <td>-0.1</td>\n",
              "      <td>0.0</td>\n",
              "      <td>0.1</td>\n",
              "      <td>0.1</td>\n",
              "      <td>0.1</td>\n",
              "      <td>-0.0</td>\n",
              "      <td>-0.0</td>\n",
              "      <td>-0.1</td>\n",
              "    </tr>\n",
              "    <tr>\n",
              "      <th>latitude</th>\n",
              "      <td>-0.9</td>\n",
              "      <td>1.0</td>\n",
              "      <td>0.0</td>\n",
              "      <td>-0.0</td>\n",
              "      <td>-0.1</td>\n",
              "      <td>-0.1</td>\n",
              "      <td>-0.1</td>\n",
              "      <td>-0.1</td>\n",
              "      <td>-0.1</td>\n",
              "      <td>0.1</td>\n",
              "    </tr>\n",
              "    <tr>\n",
              "      <th>housing_median_age</th>\n",
              "      <td>-0.1</td>\n",
              "      <td>0.0</td>\n",
              "      <td>1.0</td>\n",
              "      <td>-0.4</td>\n",
              "      <td>-0.3</td>\n",
              "      <td>-0.3</td>\n",
              "      <td>-0.3</td>\n",
              "      <td>-0.1</td>\n",
              "      <td>0.1</td>\n",
              "      <td>-0.1</td>\n",
              "    </tr>\n",
              "    <tr>\n",
              "      <th>total_rooms</th>\n",
              "      <td>0.0</td>\n",
              "      <td>-0.0</td>\n",
              "      <td>-0.4</td>\n",
              "      <td>1.0</td>\n",
              "      <td>0.9</td>\n",
              "      <td>0.9</td>\n",
              "      <td>0.9</td>\n",
              "      <td>0.2</td>\n",
              "      <td>0.1</td>\n",
              "      <td>0.1</td>\n",
              "    </tr>\n",
              "    <tr>\n",
              "      <th>total_bedrooms</th>\n",
              "      <td>0.1</td>\n",
              "      <td>-0.1</td>\n",
              "      <td>-0.3</td>\n",
              "      <td>0.9</td>\n",
              "      <td>1.0</td>\n",
              "      <td>0.9</td>\n",
              "      <td>1.0</td>\n",
              "      <td>-0.0</td>\n",
              "      <td>0.0</td>\n",
              "      <td>0.0</td>\n",
              "    </tr>\n",
              "    <tr>\n",
              "      <th>population</th>\n",
              "      <td>0.1</td>\n",
              "      <td>-0.1</td>\n",
              "      <td>-0.3</td>\n",
              "      <td>0.9</td>\n",
              "      <td>0.9</td>\n",
              "      <td>1.0</td>\n",
              "      <td>0.9</td>\n",
              "      <td>-0.0</td>\n",
              "      <td>-0.0</td>\n",
              "      <td>-0.1</td>\n",
              "    </tr>\n",
              "    <tr>\n",
              "      <th>households</th>\n",
              "      <td>0.1</td>\n",
              "      <td>-0.1</td>\n",
              "      <td>-0.3</td>\n",
              "      <td>0.9</td>\n",
              "      <td>1.0</td>\n",
              "      <td>0.9</td>\n",
              "      <td>1.0</td>\n",
              "      <td>0.0</td>\n",
              "      <td>0.1</td>\n",
              "      <td>-0.0</td>\n",
              "    </tr>\n",
              "    <tr>\n",
              "      <th>median_income</th>\n",
              "      <td>-0.0</td>\n",
              "      <td>-0.1</td>\n",
              "      <td>-0.1</td>\n",
              "      <td>0.2</td>\n",
              "      <td>-0.0</td>\n",
              "      <td>-0.0</td>\n",
              "      <td>0.0</td>\n",
              "      <td>1.0</td>\n",
              "      <td>0.7</td>\n",
              "      <td>0.2</td>\n",
              "    </tr>\n",
              "    <tr>\n",
              "      <th>median_house_value</th>\n",
              "      <td>-0.0</td>\n",
              "      <td>-0.1</td>\n",
              "      <td>0.1</td>\n",
              "      <td>0.1</td>\n",
              "      <td>0.0</td>\n",
              "      <td>-0.0</td>\n",
              "      <td>0.1</td>\n",
              "      <td>0.7</td>\n",
              "      <td>1.0</td>\n",
              "      <td>0.2</td>\n",
              "    </tr>\n",
              "    <tr>\n",
              "      <th>rooms_per_person</th>\n",
              "      <td>-0.1</td>\n",
              "      <td>0.1</td>\n",
              "      <td>-0.1</td>\n",
              "      <td>0.1</td>\n",
              "      <td>0.0</td>\n",
              "      <td>-0.1</td>\n",
              "      <td>-0.0</td>\n",
              "      <td>0.2</td>\n",
              "      <td>0.2</td>\n",
              "      <td>1.0</td>\n",
              "    </tr>\n",
              "  </tbody>\n",
              "</table>\n",
              "</div>"
            ],
            "text/plain": [
              "                    longitude  latitude  ...  median_house_value  rooms_per_person\n",
              "longitude                 1.0      -0.9  ...                -0.0              -0.1\n",
              "latitude                 -0.9       1.0  ...                -0.1               0.1\n",
              "housing_median_age       -0.1       0.0  ...                 0.1              -0.1\n",
              "total_rooms               0.0      -0.0  ...                 0.1               0.1\n",
              "total_bedrooms            0.1      -0.1  ...                 0.0               0.0\n",
              "population                0.1      -0.1  ...                -0.0              -0.1\n",
              "households                0.1      -0.1  ...                 0.1              -0.0\n",
              "median_income            -0.0      -0.1  ...                 0.7               0.2\n",
              "median_house_value       -0.0      -0.1  ...                 1.0               0.2\n",
              "rooms_per_person         -0.1       0.1  ...                 0.2               1.0\n",
              "\n",
              "[10 rows x 10 columns]"
            ]
          },
          "metadata": {
            "tags": []
          },
          "execution_count": 37
        }
      ]
    },
    {
      "cell_type": "code",
      "metadata": {
        "id": "9ta8i5tPmi6t",
        "colab_type": "code",
        "colab": {}
      },
      "source": [
        ""
      ],
      "execution_count": 0,
      "outputs": []
    }
  ]
}